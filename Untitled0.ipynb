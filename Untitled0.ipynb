{
  "nbformat": 4,
  "nbformat_minor": 0,
  "metadata": {
    "colab": {
      "provenance": [],
      "cell_execution_strategy": "setup",
      "history_visible": true,
      "authorship_tag": "ABX9TyO4MNTZDb9LofrZ5qnOoAZR",
      "include_colab_link": true
    },
    "kernelspec": {
      "name": "python3",
      "display_name": "Python 3"
    },
    "language_info": {
      "name": "python"
    }
  },
  "cells": [
    {
      "cell_type": "markdown",
      "metadata": {
        "id": "view-in-github",
        "colab_type": "text"
      },
      "source": [
        "<a href=\"https://colab.research.google.com/github/Juandavid181/Juandavid181/blob/main/Untitled0.ipynb\" target=\"_parent\"><img src=\"https://colab.research.google.com/assets/colab-badge.svg\" alt=\"Open In Colab\"/></a>"
      ]
    },
    {
      "cell_type": "code",
      "source": [
        "import requests\n",
        "import bs4\n",
        "\n",
        "def get_page_content(url):\n",
        "    response = requests.get(url)\n",
        "    soup = bs4.BeautifulSoup(response.content, 'html.parser')\n",
        "    return soup\n",
        "\n",
        "soup = get_page_content('https://www.twitch.tv/')\n",
        "\n",
        "channels = soup.find_all('div', class_='channel')\n",
        "\n",
        "for channel in channels:\n",
        "    name = channel.find('a', class_='channel-name').text\n",
        "\n",
        "    viewers = channel.find('span', class_='channel-viewers').text\n",
        "\n",
        "    print(name, viewers)"
      ],
      "metadata": {
        "id": "erJdYg4_fiAE"
      },
      "execution_count": 18,
      "outputs": []
    }
  ]
}